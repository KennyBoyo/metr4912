{
 "cells": [
  {
   "cell_type": "code",
   "execution_count": null,
   "id": "801ceb42-23c4-4cb3-bcd1-d7670b019caa",
   "metadata": {},
   "outputs": [],
   "source": []
  },
  {
   "cell_type": "code",
   "execution_count": null,
   "id": "7668e692-e294-4671-ab88-ce694c5ddf83",
   "metadata": {},
   "outputs": [],
   "source": [
    "# reshape the lookup array into a column vector\n",
    "lookup_array_column = lookup_array.reshape(-1, 1)\n",
    "\n",
    "# find the index of the closest value in the lookup array for each value in the input array\n",
    "indices = np.abs(input_array[..., np.newaxis] - lookup_array_column).argmin(axis=-1)\n"
   ]
  }
 ],
 "metadata": {
  "kernelspec": {
   "display_name": "Python 3 (ipykernel)",
   "language": "python",
   "name": "python3"
  },
  "language_info": {
   "codemirror_mode": {
    "name": "ipython",
    "version": 3
   },
   "file_extension": ".py",
   "mimetype": "text/x-python",
   "name": "python",
   "nbconvert_exporter": "python",
   "pygments_lexer": "ipython3",
   "version": "3.10.9"
  }
 },
 "nbformat": 4,
 "nbformat_minor": 5
}
