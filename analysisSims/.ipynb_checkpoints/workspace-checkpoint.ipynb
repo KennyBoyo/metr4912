{
 "cells": [
  {
   "cell_type": "code",
   "execution_count": 1,
   "id": "c06b5529-7168-4e7d-90b2-ee0ee84b5712",
   "metadata": {},
   "outputs": [
    {
     "name": "stdout",
     "output_type": "stream",
     "text": [
      "Jupyter environment detected. Enabling Open3D WebVisualizer.\n",
      "[Open3D INFO] WebRTC GUI backend enabled.\n",
      "[Open3D INFO] WebRTCWindowSystem: HTTP handshake server disabled.\n"
     ]
    }
   ],
   "source": [
    "import numpy as np\n",
    "import open3d as o3d\n",
    "import plotly.graph_objects as go\n",
    "import plotly"
   ]
  },
  {
   "cell_type": "code",
   "execution_count": 5,
   "id": "ffc98e56-26dc-4e07-9270-52a6e0a09d70",
   "metadata": {},
   "outputs": [],
   "source": [
    "def generate_data(n_points, seed=0):\n",
    "    np.random.seed(0)\n",
    "    return np.random.uniform(-1, 1, (n_points, 3))\n",
    "\n",
    "data = generate_data(100)\n",
    "x = data[:, 0]\n",
    "y = data[:, 1]\n",
    "z = data[:, 2]"
   ]
  },
  {
   "cell_type": "code",
   "execution_count": 10,
   "id": "80d5b915-9d98-4378-bba3-c8ab1dfa0473",
   "metadata": {},
   "outputs": [
    {
     "data": {
      "application/vnd.plotly.v1+json": {
       "config": {
        "plotlyServerURL": "https://plot.ly"
       },
       "data": [
        {
         "alphahull": 4,
         "color": "lightpink",
         "opacity": 0.5,
         "type": "mesh3d",
         "x": [
          0.0976270078546495,
          0.08976636599379373,
          -0.12482557747461498,
          -0.2331169623484446,
          0.13608912218786462,
          -0.8257414005969186,
          0.556313501899701,
          0.5983171284334472,
          -0.7634511482621336,
          0.8893378340991678,
          -0.47088877579074606,
          0.13686789773729702,
          0.22419144544484282,
          0.3636405982069668,
          0.3952623918545297,
          0.3412757392363188,
          -0.36914329815163227,
          -0.1227969730753593,
          -0.5822464878103306,
          -0.4934167949204358,
          -0.6820608327089606,
          -0.7236340973027724,
          0.6419864596958702,
          -0.8078031842120739,
          0.9535221763806743,
          -0.9216244154913587,
          -0.40771960495571014,
          -0.17147401097066006,
          0.1332029084131503,
          -0.8121189784831166,
          -0.3628620950973527,
          0.4326544082371311,
          0.1730258696201663,
          -0.9906090476149059,
          0.47038804424518976,
          0.1523146688356738,
          -0.5538367347187634,
          0.6928173449422557,
          0.6275956394049544,
          0.1625457452717174,
          0.45050855963928105,
          0.2879803984592748,
          -0.961613603381333,
          -0.41984478557911187,
          -0.7290518715550995,
          0.18174552249634646,
          0.30420654000337777,
          -0.26487625990420693,
          0.6123879780921715,
          0.8389652274893471,
          -0.7011033906840125,
          0.23111912856768835,
          0.6146379174500214,
          -0.8616660090897239,
          0.44411119894069584,
          0.711606684785222,
          0.45998112484811604,
          -0.8913240233214927,
          0.5873954067148413,
          0.8561625869311817,
          -0.6706116870041745,
          -0.5242143572509828,
          0.07126560604991661,
          -0.3761100090407963,
          -0.6276139882393277,
          -0.019082382764865846,
          -0.8839416793522488,
          0.392686977630919,
          -0.9506425432173375,
          -0.09260631088790938,
          0.9806778947934087,
          -0.4733552465256987,
          -0.3599656983550643,
          0.6620969104723808,
          -0.45291593036872846,
          0.9055833139438891,
          0.8947411809778485,
          -0.573376045265036,
          -0.5850598491177812,
          -0.07284915127037861,
          0.7277112118464628,
          -0.7358637873096934,
          0.13084262371701794,
          -0.02388743870209087,
          0.5306505076139305,
          -0.8331551291159629,
          0.923872757094458,
          -0.7994121154690044,
          0.3398330931818201,
          0.17282033237265337,
          0.9549902794888936,
          0.923140309082997,
          0.8827554094129972,
          0.748575933249894,
          0.23575338383504763,
          -0.7037182781036699,
          -0.005217269002674607,
          -0.7261994566288021,
          0.02263796509291205,
          0.7243830348433666
         ],
         "y": [
          0.43037873274483895,
          -0.15269040132219058,
          0.7835460015641595,
          0.5834500761653292,
          0.8511932765853221,
          -0.9595632051193486,
          0.7400242964936383,
          -0.07704127549413631,
          0.27984204265504764,
          0.04369664350014335,
          0.5484673788684333,
          -0.9624203991272897,
          0.23386799374951384,
          -0.280984198852428,
          -0.8795490567414603,
          -0.5792348778523182,
          -0.2725784581147548,
          0.9767476761184524,
          -0.6773809642300075,
          -0.06737845428738742,
          -0.7792497176713897,
          -0.606835276639893,
          -0.8057974484138775,
          0.9529189300267915,
          0.20969103949009193,
          -0.43438607484718084,
          -0.7625445620915119,
          -0.8717050073024313,
          -0.46922101812110917,
          0.15189299111235854,
          0.3348207599273634,
          -0.4211878141055978,
          -0.9597849076250129,
          0.3556330735924602,
          0.9243770902348765,
          0.18408386254367803,
          0.90549802303397,
          0.3989585506350086,
          -0.2069885183060307,
          0.7634707237097056,
          0.002648763853404512,
          -0.15228990288364064,
          -0.39685036665090134,
          0.23603085799768309,
          -0.40343534808793846,
          0.1486504976991576,
          -0.1371631291320521,
          -0.12827014946874638,
          0.40777716708073264,
          0.42848259909822284,
          0.7362521147364285,
          -0.752360034301117,
          0.13820147722918663,
          0.3948575462891273,
          0.7327646518572584,
          -0.9765718316299961,
          -0.656740645477119,
          -0.6000069502071999,
          -0.5521506238792397,
          0.40882880384706555,
          0.24295680299952704,
          0.8684279958495875,
          0.17981995270914197,
          -0.20355787556781624,
          0.8887447799678672,
          -0.5451707440533535,
          -0.13116674888375845,
          -0.2444963214150382,
          -0.8655007370735028,
          0.0731584222174444,
          -0.5662060312030521,
          -0.9586980010685426,
          -0.23307221165620406,
          0.25796368718229745,
          0.5960936678251274,
          0.3749765527756306,
          0.46171161354031565,
          0.036401427861326496,
          -0.1506290624969875,
          -0.4447425874105362,
          -0.7649362880759338,
          0.4337193623851874,
          -0.6334403275718428,
          -0.28877452430008876,
          0.4973272397010946,
          0.10438493984481312,
          -0.4157049464149023,
          -0.9671407408170516,
          0.5703058240462755,
          -0.8720894677580378,
          0.7530104906331816,
          -0.536596747057591,
          0.5984051747047834,
          -0.4139594309844066,
          -0.973526284482201,
          0.9636587796365064,
          0.2789450327974472,
          0.644235466388491,
          -0.5513659420505215,
          0.9458389780462606
         ],
         "z": [
          0.20552675214328775,
          0.29178822613331223,
          0.9273255210020586,
          0.05778983950580896,
          -0.8579278836042261,
          0.665239691095876,
          0.957236684465528,
          0.5610583525729109,
          -0.7132934251819072,
          -0.17067612001895283,
          -0.0876993355669029,
          0.23527099415175412,
          0.8874961570292483,
          -0.1259360924013171,
          0.33353343089133536,
          -0.7421474046902934,
          0.14039354083575928,
          -0.7959103785039439,
          0.30621665093079686,
          -0.5111488159967945,
          0.31265917893054684,
          -0.2625496586780718,
          0.6758898149976078,
          -0.06269759670459685,
          0.47852715879660335,
          -0.7596068775736622,
          -0.36403364121204795,
          0.3849442387400397,
          0.04649610693339934,
          0.8585923951524281,
          -0.7364042751912157,
          -0.6336172759857663,
          0.6578800584347262,
          -0.4599840536156703,
          -0.5024937129600839,
          0.14450381158174674,
          -0.10574924276474529,
          -0.4051260982897327,
          0.7622063942223232,
          0.38506318015553176,
          0.9121672694464478,
          0.2127864282558487,
          0.3203470749853701,
          -0.14246259810846773,
          0.13992982140252974,
          0.30640163971426726,
          0.793093191702126,
          0.7838467100313442,
          -0.7995462253753978,
          0.997694013135733,
          -0.6750141306472504,
          0.6960164586444688,
          -0.18563340554800067,
          -0.09291463464386229,
          0.9510430100057716,
          -0.2800438710432722,
          0.042073212408258565,
          -0.9629564110787721,
          -0.3092966386061946,
          -0.9363221409373843,
          0.15445717720833518,
          0.22793191193179196,
          0.46024405903353927,
          -0.5803125020497557,
          0.4791015900985751,
          -0.4912870364592141,
          -0.37640823601179485,
          -0.6407926448807304,
          0.3587855469971346,
          0.7933425860806842,
          0.3261564062002016,
          0.5167573076722829,
          0.17663422710721144,
          0.7453013108947906,
          -0.6287281113880956,
          -0.5689846457728831,
          -0.49211671480994834,
          -0.9486745638909369,
          -0.2516600393315489,
          0.17356869291633759,
          0.03475821430822834,
          -0.2078805943854125,
          -0.7103044813132455,
          0.8808638905056261,
          0.8074394794918669,
          0.16895213791153774,
          -0.5183424401691064,
          0.8590586335843811,
          -0.43653978849210184,
          -0.028744808130754196,
          -0.32368209632630873,
          0.8986376448313629,
          0.26089587373358225,
          0.6978871106258364,
          -0.30553296413556086,
          -0.043259385920023874,
          -0.26283078774076496,
          -0.6203041761944841,
          -0.8043110310119319,
          0.9216693161260003
         ]
        }
       ],
       "layout": {
        "autosize": true,
        "scene": {
         "aspectmode": "auto",
         "aspectratio": {
          "x": 1.0048673724276596,
          "y": 0.9957084374864744,
          "z": 0.9994453864857578
         },
         "camera": {
          "center": {
           "x": 0,
           "y": 0,
           "z": 0
          },
          "eye": {
           "x": 0.5505750877032675,
           "y": 1.6310145659928326,
           "z": 1.313072183209953
          },
          "projection": {
           "type": "perspective"
          },
          "up": {
           "x": 0,
           "y": 0,
           "z": 1
          }
         }
        },
        "template": {
         "data": {
          "bar": [
           {
            "error_x": {
             "color": "#2a3f5f"
            },
            "error_y": {
             "color": "#2a3f5f"
            },
            "marker": {
             "line": {
              "color": "#E5ECF6",
              "width": 0.5
             },
             "pattern": {
              "fillmode": "overlay",
              "size": 10,
              "solidity": 0.2
             }
            },
            "type": "bar"
           }
          ],
          "barpolar": [
           {
            "marker": {
             "line": {
              "color": "#E5ECF6",
              "width": 0.5
             },
             "pattern": {
              "fillmode": "overlay",
              "size": 10,
              "solidity": 0.2
             }
            },
            "type": "barpolar"
           }
          ],
          "carpet": [
           {
            "aaxis": {
             "endlinecolor": "#2a3f5f",
             "gridcolor": "white",
             "linecolor": "white",
             "minorgridcolor": "white",
             "startlinecolor": "#2a3f5f"
            },
            "baxis": {
             "endlinecolor": "#2a3f5f",
             "gridcolor": "white",
             "linecolor": "white",
             "minorgridcolor": "white",
             "startlinecolor": "#2a3f5f"
            },
            "type": "carpet"
           }
          ],
          "choropleth": [
           {
            "colorbar": {
             "outlinewidth": 0,
             "ticks": ""
            },
            "type": "choropleth"
           }
          ],
          "contour": [
           {
            "colorbar": {
             "outlinewidth": 0,
             "ticks": ""
            },
            "colorscale": [
             [
              0,
              "#0d0887"
             ],
             [
              0.1111111111111111,
              "#46039f"
             ],
             [
              0.2222222222222222,
              "#7201a8"
             ],
             [
              0.3333333333333333,
              "#9c179e"
             ],
             [
              0.4444444444444444,
              "#bd3786"
             ],
             [
              0.5555555555555556,
              "#d8576b"
             ],
             [
              0.6666666666666666,
              "#ed7953"
             ],
             [
              0.7777777777777778,
              "#fb9f3a"
             ],
             [
              0.8888888888888888,
              "#fdca26"
             ],
             [
              1,
              "#f0f921"
             ]
            ],
            "type": "contour"
           }
          ],
          "contourcarpet": [
           {
            "colorbar": {
             "outlinewidth": 0,
             "ticks": ""
            },
            "type": "contourcarpet"
           }
          ],
          "heatmap": [
           {
            "colorbar": {
             "outlinewidth": 0,
             "ticks": ""
            },
            "colorscale": [
             [
              0,
              "#0d0887"
             ],
             [
              0.1111111111111111,
              "#46039f"
             ],
             [
              0.2222222222222222,
              "#7201a8"
             ],
             [
              0.3333333333333333,
              "#9c179e"
             ],
             [
              0.4444444444444444,
              "#bd3786"
             ],
             [
              0.5555555555555556,
              "#d8576b"
             ],
             [
              0.6666666666666666,
              "#ed7953"
             ],
             [
              0.7777777777777778,
              "#fb9f3a"
             ],
             [
              0.8888888888888888,
              "#fdca26"
             ],
             [
              1,
              "#f0f921"
             ]
            ],
            "type": "heatmap"
           }
          ],
          "heatmapgl": [
           {
            "colorbar": {
             "outlinewidth": 0,
             "ticks": ""
            },
            "colorscale": [
             [
              0,
              "#0d0887"
             ],
             [
              0.1111111111111111,
              "#46039f"
             ],
             [
              0.2222222222222222,
              "#7201a8"
             ],
             [
              0.3333333333333333,
              "#9c179e"
             ],
             [
              0.4444444444444444,
              "#bd3786"
             ],
             [
              0.5555555555555556,
              "#d8576b"
             ],
             [
              0.6666666666666666,
              "#ed7953"
             ],
             [
              0.7777777777777778,
              "#fb9f3a"
             ],
             [
              0.8888888888888888,
              "#fdca26"
             ],
             [
              1,
              "#f0f921"
             ]
            ],
            "type": "heatmapgl"
           }
          ],
          "histogram": [
           {
            "marker": {
             "pattern": {
              "fillmode": "overlay",
              "size": 10,
              "solidity": 0.2
             }
            },
            "type": "histogram"
           }
          ],
          "histogram2d": [
           {
            "colorbar": {
             "outlinewidth": 0,
             "ticks": ""
            },
            "colorscale": [
             [
              0,
              "#0d0887"
             ],
             [
              0.1111111111111111,
              "#46039f"
             ],
             [
              0.2222222222222222,
              "#7201a8"
             ],
             [
              0.3333333333333333,
              "#9c179e"
             ],
             [
              0.4444444444444444,
              "#bd3786"
             ],
             [
              0.5555555555555556,
              "#d8576b"
             ],
             [
              0.6666666666666666,
              "#ed7953"
             ],
             [
              0.7777777777777778,
              "#fb9f3a"
             ],
             [
              0.8888888888888888,
              "#fdca26"
             ],
             [
              1,
              "#f0f921"
             ]
            ],
            "type": "histogram2d"
           }
          ],
          "histogram2dcontour": [
           {
            "colorbar": {
             "outlinewidth": 0,
             "ticks": ""
            },
            "colorscale": [
             [
              0,
              "#0d0887"
             ],
             [
              0.1111111111111111,
              "#46039f"
             ],
             [
              0.2222222222222222,
              "#7201a8"
             ],
             [
              0.3333333333333333,
              "#9c179e"
             ],
             [
              0.4444444444444444,
              "#bd3786"
             ],
             [
              0.5555555555555556,
              "#d8576b"
             ],
             [
              0.6666666666666666,
              "#ed7953"
             ],
             [
              0.7777777777777778,
              "#fb9f3a"
             ],
             [
              0.8888888888888888,
              "#fdca26"
             ],
             [
              1,
              "#f0f921"
             ]
            ],
            "type": "histogram2dcontour"
           }
          ],
          "mesh3d": [
           {
            "colorbar": {
             "outlinewidth": 0,
             "ticks": ""
            },
            "type": "mesh3d"
           }
          ],
          "parcoords": [
           {
            "line": {
             "colorbar": {
              "outlinewidth": 0,
              "ticks": ""
             }
            },
            "type": "parcoords"
           }
          ],
          "pie": [
           {
            "automargin": true,
            "type": "pie"
           }
          ],
          "scatter": [
           {
            "fillpattern": {
             "fillmode": "overlay",
             "size": 10,
             "solidity": 0.2
            },
            "type": "scatter"
           }
          ],
          "scatter3d": [
           {
            "line": {
             "colorbar": {
              "outlinewidth": 0,
              "ticks": ""
             }
            },
            "marker": {
             "colorbar": {
              "outlinewidth": 0,
              "ticks": ""
             }
            },
            "type": "scatter3d"
           }
          ],
          "scattercarpet": [
           {
            "marker": {
             "colorbar": {
              "outlinewidth": 0,
              "ticks": ""
             }
            },
            "type": "scattercarpet"
           }
          ],
          "scattergeo": [
           {
            "marker": {
             "colorbar": {
              "outlinewidth": 0,
              "ticks": ""
             }
            },
            "type": "scattergeo"
           }
          ],
          "scattergl": [
           {
            "marker": {
             "colorbar": {
              "outlinewidth": 0,
              "ticks": ""
             }
            },
            "type": "scattergl"
           }
          ],
          "scattermapbox": [
           {
            "marker": {
             "colorbar": {
              "outlinewidth": 0,
              "ticks": ""
             }
            },
            "type": "scattermapbox"
           }
          ],
          "scatterpolar": [
           {
            "marker": {
             "colorbar": {
              "outlinewidth": 0,
              "ticks": ""
             }
            },
            "type": "scatterpolar"
           }
          ],
          "scatterpolargl": [
           {
            "marker": {
             "colorbar": {
              "outlinewidth": 0,
              "ticks": ""
             }
            },
            "type": "scatterpolargl"
           }
          ],
          "scatterternary": [
           {
            "marker": {
             "colorbar": {
              "outlinewidth": 0,
              "ticks": ""
             }
            },
            "type": "scatterternary"
           }
          ],
          "surface": [
           {
            "colorbar": {
             "outlinewidth": 0,
             "ticks": ""
            },
            "colorscale": [
             [
              0,
              "#0d0887"
             ],
             [
              0.1111111111111111,
              "#46039f"
             ],
             [
              0.2222222222222222,
              "#7201a8"
             ],
             [
              0.3333333333333333,
              "#9c179e"
             ],
             [
              0.4444444444444444,
              "#bd3786"
             ],
             [
              0.5555555555555556,
              "#d8576b"
             ],
             [
              0.6666666666666666,
              "#ed7953"
             ],
             [
              0.7777777777777778,
              "#fb9f3a"
             ],
             [
              0.8888888888888888,
              "#fdca26"
             ],
             [
              1,
              "#f0f921"
             ]
            ],
            "type": "surface"
           }
          ],
          "table": [
           {
            "cells": {
             "fill": {
              "color": "#EBF0F8"
             },
             "line": {
              "color": "white"
             }
            },
            "header": {
             "fill": {
              "color": "#C8D4E3"
             },
             "line": {
              "color": "white"
             }
            },
            "type": "table"
           }
          ]
         },
         "layout": {
          "annotationdefaults": {
           "arrowcolor": "#2a3f5f",
           "arrowhead": 0,
           "arrowwidth": 1
          },
          "autotypenumbers": "strict",
          "coloraxis": {
           "colorbar": {
            "outlinewidth": 0,
            "ticks": ""
           }
          },
          "colorscale": {
           "diverging": [
            [
             0,
             "#8e0152"
            ],
            [
             0.1,
             "#c51b7d"
            ],
            [
             0.2,
             "#de77ae"
            ],
            [
             0.3,
             "#f1b6da"
            ],
            [
             0.4,
             "#fde0ef"
            ],
            [
             0.5,
             "#f7f7f7"
            ],
            [
             0.6,
             "#e6f5d0"
            ],
            [
             0.7,
             "#b8e186"
            ],
            [
             0.8,
             "#7fbc41"
            ],
            [
             0.9,
             "#4d9221"
            ],
            [
             1,
             "#276419"
            ]
           ],
           "sequential": [
            [
             0,
             "#0d0887"
            ],
            [
             0.1111111111111111,
             "#46039f"
            ],
            [
             0.2222222222222222,
             "#7201a8"
            ],
            [
             0.3333333333333333,
             "#9c179e"
            ],
            [
             0.4444444444444444,
             "#bd3786"
            ],
            [
             0.5555555555555556,
             "#d8576b"
            ],
            [
             0.6666666666666666,
             "#ed7953"
            ],
            [
             0.7777777777777778,
             "#fb9f3a"
            ],
            [
             0.8888888888888888,
             "#fdca26"
            ],
            [
             1,
             "#f0f921"
            ]
           ],
           "sequentialminus": [
            [
             0,
             "#0d0887"
            ],
            [
             0.1111111111111111,
             "#46039f"
            ],
            [
             0.2222222222222222,
             "#7201a8"
            ],
            [
             0.3333333333333333,
             "#9c179e"
            ],
            [
             0.4444444444444444,
             "#bd3786"
            ],
            [
             0.5555555555555556,
             "#d8576b"
            ],
            [
             0.6666666666666666,
             "#ed7953"
            ],
            [
             0.7777777777777778,
             "#fb9f3a"
            ],
            [
             0.8888888888888888,
             "#fdca26"
            ],
            [
             1,
             "#f0f921"
            ]
           ]
          },
          "colorway": [
           "#636efa",
           "#EF553B",
           "#00cc96",
           "#ab63fa",
           "#FFA15A",
           "#19d3f3",
           "#FF6692",
           "#B6E880",
           "#FF97FF",
           "#FECB52"
          ],
          "font": {
           "color": "#2a3f5f"
          },
          "geo": {
           "bgcolor": "white",
           "lakecolor": "white",
           "landcolor": "#E5ECF6",
           "showlakes": true,
           "showland": true,
           "subunitcolor": "white"
          },
          "hoverlabel": {
           "align": "left"
          },
          "hovermode": "closest",
          "mapbox": {
           "style": "light"
          },
          "paper_bgcolor": "white",
          "plot_bgcolor": "#E5ECF6",
          "polar": {
           "angularaxis": {
            "gridcolor": "white",
            "linecolor": "white",
            "ticks": ""
           },
           "bgcolor": "#E5ECF6",
           "radialaxis": {
            "gridcolor": "white",
            "linecolor": "white",
            "ticks": ""
           }
          },
          "scene": {
           "xaxis": {
            "backgroundcolor": "#E5ECF6",
            "gridcolor": "white",
            "gridwidth": 2,
            "linecolor": "white",
            "showbackground": true,
            "ticks": "",
            "zerolinecolor": "white"
           },
           "yaxis": {
            "backgroundcolor": "#E5ECF6",
            "gridcolor": "white",
            "gridwidth": 2,
            "linecolor": "white",
            "showbackground": true,
            "ticks": "",
            "zerolinecolor": "white"
           },
           "zaxis": {
            "backgroundcolor": "#E5ECF6",
            "gridcolor": "white",
            "gridwidth": 2,
            "linecolor": "white",
            "showbackground": true,
            "ticks": "",
            "zerolinecolor": "white"
           }
          },
          "shapedefaults": {
           "line": {
            "color": "#2a3f5f"
           }
          },
          "ternary": {
           "aaxis": {
            "gridcolor": "white",
            "linecolor": "white",
            "ticks": ""
           },
           "baxis": {
            "gridcolor": "white",
            "linecolor": "white",
            "ticks": ""
           },
           "bgcolor": "#E5ECF6",
           "caxis": {
            "gridcolor": "white",
            "linecolor": "white",
            "ticks": ""
           }
          },
          "title": {
           "x": 0.05
          },
          "xaxis": {
           "automargin": true,
           "gridcolor": "white",
           "linecolor": "white",
           "ticks": "",
           "title": {
            "standoff": 15
           },
           "zerolinecolor": "white",
           "zerolinewidth": 2
          },
          "yaxis": {
           "automargin": true,
           "gridcolor": "white",
           "linecolor": "white",
           "ticks": "",
           "title": {
            "standoff": 15
           },
           "zerolinecolor": "white",
           "zerolinewidth": 2
          }
         }
        }
       }
      },
      "image/png": "[encoded data removed]",
      "text/html": [
       "<div>                            <div id=\"e5bf55d9-c3ee-4c8c-97eb-e7f3f656a839\" class=\"plotly-graph-div\" style=\"height:525px; width:100%;\"></div>            <script type=\"text/javascript\">                require([\"plotly\"], function(Plotly) {                    window.PLOTLYENV=window.PLOTLYENV || {};                                    if (document.getElementById(\"e5bf55d9-c3ee-4c8c-97eb-e7f3f656a839\")) {                    Plotly.newPlot(                        \"e5bf55d9-c3ee-4c8c-97eb-e7f3f656a839\",                        [{\"alphahull\":4,\"color\":\"lightpink\",\"opacity\":0.5,\"x\":[0.0976270078546495,0.08976636599379373,-0.12482557747461498,-0.2331169623484446,0.13608912218786462,-0.8257414005969186,0.556313501899701,0.5983171284334472,-0.7634511482621336,0.8893378340991678,-0.47088877579074606,0.13686789773729702,0.22419144544484282,0.3636405982069668,0.3952623918545297,0.3412757392363188,-0.36914329815163227,-0.1227969730753593,-0.5822464878103306,-0.4934167949204358,-0.6820608327089606,-0.7236340973027724,0.6419864596958702,-0.8078031842120739,0.9535221763806743,-0.9216244154913587,-0.40771960495571014,-0.17147401097066006,0.1332029084131503,-0.8121189784831166,-0.3628620950973527,0.4326544082371311,0.1730258696201663,-0.9906090476149059,0.47038804424518976,0.1523146688356738,-0.5538367347187634,0.6928173449422557,0.6275956394049544,0.1625457452717174,0.45050855963928105,0.2879803984592748,-0.961613603381333,-0.41984478557911187,-0.7290518715550995,0.18174552249634646,0.30420654000337777,-0.26487625990420693,0.6123879780921715,0.8389652274893471,-0.7011033906840125,0.23111912856768835,0.6146379174500214,-0.8616660090897239,0.44411119894069584,0.711606684785222,0.45998112484811604,-0.8913240233214927,0.5873954067148413,0.8561625869311817,-0.6706116870041745,-0.5242143572509828,0.07126560604991661,-0.3761100090407963,-0.6276139882393277,-0.019082382764865846,-0.8839416793522488,0.392686977630919,-0.9506425432173375,-0.09260631088790938,0.9806778947934087,-0.4733552465256987,-0.3599656983550643,0.6620969104723808,-0.45291593036872846,0.9055833139438891,0.8947411809778485,-0.573376045265036,-0.5850598491177812,-0.07284915127037861,0.7277112118464628,-0.7358637873096934,0.13084262371701794,-0.02388743870209087,0.5306505076139305,-0.8331551291159629,0.923872757094458,-0.7994121154690044,0.3398330931818201,0.17282033237265337,0.9549902794888936,0.923140309082997,0.8827554094129972,0.748575933249894,0.23575338383504763,-0.7037182781036699,-0.005217269002674607,-0.7261994566288021,0.02263796509291205,0.7243830348433666],\"y\":[0.43037873274483895,-0.15269040132219058,0.7835460015641595,0.5834500761653292,0.8511932765853221,-0.9595632051193486,0.7400242964936383,-0.07704127549413631,0.27984204265504764,0.04369664350014335,0.5484673788684333,-0.9624203991272897,0.23386799374951384,-0.280984198852428,-0.8795490567414603,-0.5792348778523182,-0.2725784581147548,0.9767476761184524,-0.6773809642300075,-0.06737845428738742,-0.7792497176713897,-0.606835276639893,-0.8057974484138775,0.9529189300267915,0.20969103949009193,-0.43438607484718084,-0.7625445620915119,-0.8717050073024313,-0.46922101812110917,0.15189299111235854,0.3348207599273634,-0.4211878141055978,-0.9597849076250129,0.3556330735924602,0.9243770902348765,0.18408386254367803,0.90549802303397,0.3989585506350086,-0.2069885183060307,0.7634707237097056,0.002648763853404512,-0.15228990288364064,-0.39685036665090134,0.23603085799768309,-0.40343534808793846,0.1486504976991576,-0.1371631291320521,-0.12827014946874638,0.40777716708073264,0.42848259909822284,0.7362521147364285,-0.752360034301117,0.13820147722918663,0.3948575462891273,0.7327646518572584,-0.9765718316299961,-0.656740645477119,-0.6000069502071999,-0.5521506238792397,0.40882880384706555,0.24295680299952704,0.8684279958495875,0.17981995270914197,-0.20355787556781624,0.8887447799678672,-0.5451707440533535,-0.13116674888375845,-0.2444963214150382,-0.8655007370735028,0.0731584222174444,-0.5662060312030521,-0.9586980010685426,-0.23307221165620406,0.25796368718229745,0.5960936678251274,0.3749765527756306,0.46171161354031565,0.036401427861326496,-0.1506290624969875,-0.4447425874105362,-0.7649362880759338,0.4337193623851874,-0.6334403275718428,-0.28877452430008876,0.4973272397010946,0.10438493984481312,-0.4157049464149023,-0.9671407408170516,0.5703058240462755,-0.8720894677580378,0.7530104906331816,-0.536596747057591,0.5984051747047834,-0.4139594309844066,-0.973526284482201,0.9636587796365064,0.2789450327974472,0.644235466388491,-0.5513659420505215,0.9458389780462606],\"z\":[0.20552675214328775,0.29178822613331223,0.9273255210020586,0.05778983950580896,-0.8579278836042261,0.665239691095876,0.957236684465528,0.5610583525729109,-0.7132934251819072,-0.17067612001895283,-0.0876993355669029,0.23527099415175412,0.8874961570292483,-0.1259360924013171,0.33353343089133536,-0.7421474046902934,0.14039354083575928,-0.7959103785039439,0.30621665093079686,-0.5111488159967945,0.31265917893054684,-0.2625496586780718,0.6758898149976078,-0.06269759670459685,0.47852715879660335,-0.7596068775736622,-0.36403364121204795,0.3849442387400397,0.04649610693339934,0.8585923951524281,-0.7364042751912157,-0.6336172759857663,0.6578800584347262,-0.4599840536156703,-0.5024937129600839,0.14450381158174674,-0.10574924276474529,-0.4051260982897327,0.7622063942223232,0.38506318015553176,0.9121672694464478,0.2127864282558487,0.3203470749853701,-0.14246259810846773,0.13992982140252974,0.30640163971426726,0.793093191702126,0.7838467100313442,-0.7995462253753978,0.997694013135733,-0.6750141306472504,0.6960164586444688,-0.18563340554800067,-0.09291463464386229,0.9510430100057716,-0.2800438710432722,0.042073212408258565,-0.9629564110787721,-0.3092966386061946,-0.9363221409373843,0.15445717720833518,0.22793191193179196,0.46024405903353927,-0.5803125020497557,0.4791015900985751,-0.4912870364592141,-0.37640823601179485,-0.6407926448807304,0.3587855469971346,0.7933425860806842,0.3261564062002016,0.5167573076722829,0.17663422710721144,0.7453013108947906,-0.6287281113880956,-0.5689846457728831,-0.49211671480994834,-0.9486745638909369,-0.2516600393315489,0.17356869291633759,0.03475821430822834,-0.2078805943854125,-0.7103044813132455,0.8808638905056261,0.8074394794918669,0.16895213791153774,-0.5183424401691064,0.8590586335843811,-0.43653978849210184,-0.028744808130754196,-0.32368209632630873,0.8986376448313629,0.26089587373358225,0.6978871106258364,-0.30553296413556086,-0.043259385920023874,-0.26283078774076496,-0.6203041761944841,-0.8043110310119319,0.9216693161260003],\"type\":\"mesh3d\"}],                        {\"template\":{\"data\":{\"histogram2dcontour\":[{\"type\":\"histogram2dcontour\",\"colorbar\":{\"outlinewidth\":0,\"ticks\":\"\"},\"colorscale\":[[0.0,\"#0d0887\"],[0.1111111111111111,\"#46039f\"],[0.2222222222222222,\"#7201a8\"],[0.3333333333333333,\"#9c179e\"],[0.4444444444444444,\"#bd3786\"],[0.5555555555555556,\"#d8576b\"],[0.6666666666666666,\"#ed7953\"],[0.7777777777777778,\"#fb9f3a\"],[0.8888888888888888,\"#fdca26\"],[1.0,\"#f0f921\"]]}],\"choropleth\":[{\"type\":\"choropleth\",\"colorbar\":{\"outlinewidth\":0,\"ticks\":\"\"}}],\"histogram2d\":[{\"type\":\"histogram2d\",\"colorbar\":{\"outlinewidth\":0,\"ticks\":\"\"},\"colorscale\":[[0.0,\"#0d0887\"],[0.1111111111111111,\"#46039f\"],[0.2222222222222222,\"#7201a8\"],[0.3333333333333333,\"#9c179e\"],[0.4444444444444444,\"#bd3786\"],[0.5555555555555556,\"#d8576b\"],[0.6666666666666666,\"#ed7953\"],[0.7777777777777778,\"#fb9f3a\"],[0.8888888888888888,\"#fdca26\"],[1.0,\"#f0f921\"]]}],\"heatmap\":[{\"type\":\"heatmap\",\"colorbar\":{\"outlinewidth\":0,\"ticks\":\"\"},\"colorscale\":[[0.0,\"#0d0887\"],[0.1111111111111111,\"#46039f\"],[0.2222222222222222,\"#7201a8\"],[0.3333333333333333,\"#9c179e\"],[0.4444444444444444,\"#bd3786\"],[0.5555555555555556,\"#d8576b\"],[0.6666666666666666,\"#ed7953\"],[0.7777777777777778,\"#fb9f3a\"],[0.8888888888888888,\"#fdca26\"],[1.0,\"#f0f921\"]]}],\"heatmapgl\":[{\"type\":\"heatmapgl\",\"colorbar\":{\"outlinewidth\":0,\"ticks\":\"\"},\"colorscale\":[[0.0,\"#0d0887\"],[0.1111111111111111,\"#46039f\"],[0.2222222222222222,\"#7201a8\"],[0.3333333333333333,\"#9c179e\"],[0.4444444444444444,\"#bd3786\"],[0.5555555555555556,\"#d8576b\"],[0.6666666666666666,\"#ed7953\"],[0.7777777777777778,\"#fb9f3a\"],[0.8888888888888888,\"#fdca26\"],[1.0,\"#f0f921\"]]}],\"contourcarpet\":[{\"type\":\"contourcarpet\",\"colorbar\":{\"outlinewidth\":0,\"ticks\":\"\"}}],\"contour\":[{\"type\":\"contour\",\"colorbar\":{\"outlinewidth\":0,\"ticks\":\"\"},\"colorscale\":[[0.0,\"#0d0887\"],[0.1111111111111111,\"#46039f\"],[0.2222222222222222,\"#7201a8\"],[0.3333333333333333,\"#9c179e\"],[0.4444444444444444,\"#bd3786\"],[0.5555555555555556,\"#d8576b\"],[0.6666666666666666,\"#ed7953\"],[0.7777777777777778,\"#fb9f3a\"],[0.8888888888888888,\"#fdca26\"],[1.0,\"#f0f921\"]]}],\"surface\":[{\"type\":\"surface\",\"colorbar\":{\"outlinewidth\":0,\"ticks\":\"\"},\"colorscale\":[[0.0,\"#0d0887\"],[0.1111111111111111,\"#46039f\"],[0.2222222222222222,\"#7201a8\"],[0.3333333333333333,\"#9c179e\"],[0.4444444444444444,\"#bd3786\"],[0.5555555555555556,\"#d8576b\"],[0.6666666666666666,\"#ed7953\"],[0.7777777777777778,\"#fb9f3a\"],[0.8888888888888888,\"#fdca26\"],[1.0,\"#f0f921\"]]}],\"mesh3d\":[{\"type\":\"mesh3d\",\"colorbar\":{\"outlinewidth\":0,\"ticks\":\"\"}}],\"scatter\":[{\"fillpattern\":{\"fillmode\":\"overlay\",\"size\":10,\"solidity\":0.2},\"type\":\"scatter\"}],\"parcoords\":[{\"type\":\"parcoords\",\"line\":{\"colorbar\":{\"outlinewidth\":0,\"ticks\":\"\"}}}],\"scatterpolargl\":[{\"type\":\"scatterpolargl\",\"marker\":{\"colorbar\":{\"outlinewidth\":0,\"ticks\":\"\"}}}],\"bar\":[{\"error_x\":{\"color\":\"#2a3f5f\"},\"error_y\":{\"color\":\"#2a3f5f\"},\"marker\":{\"line\":{\"color\":\"#E5ECF6\",\"width\":0.5},\"pattern\":{\"fillmode\":\"overlay\",\"size\":10,\"solidity\":0.2}},\"type\":\"bar\"}],\"scattergeo\":[{\"type\":\"scattergeo\",\"marker\":{\"colorbar\":{\"outlinewidth\":0,\"ticks\":\"\"}}}],\"scatterpolar\":[{\"type\":\"scatterpolar\",\"marker\":{\"colorbar\":{\"outlinewidth\":0,\"ticks\":\"\"}}}],\"histogram\":[{\"marker\":{\"pattern\":{\"fillmode\":\"overlay\",\"size\":10,\"solidity\":0.2}},\"type\":\"histogram\"}],\"scattergl\":[{\"type\":\"scattergl\",\"marker\":{\"colorbar\":{\"outlinewidth\":0,\"ticks\":\"\"}}}],\"scatter3d\":[{\"type\":\"scatter3d\",\"line\":{\"colorbar\":{\"outlinewidth\":0,\"ticks\":\"\"}},\"marker\":{\"colorbar\":{\"outlinewidth\":0,\"ticks\":\"\"}}}],\"scattermapbox\":[{\"type\":\"scattermapbox\",\"marker\":{\"colorbar\":{\"outlinewidth\":0,\"ticks\":\"\"}}}],\"scatterternary\":[{\"type\":\"scatterternary\",\"marker\":{\"colorbar\":{\"outlinewidth\":0,\"ticks\":\"\"}}}],\"scattercarpet\":[{\"type\":\"scattercarpet\",\"marker\":{\"colorbar\":{\"outlinewidth\":0,\"ticks\":\"\"}}}],\"carpet\":[{\"aaxis\":{\"endlinecolor\":\"#2a3f5f\",\"gridcolor\":\"white\",\"linecolor\":\"white\",\"minorgridcolor\":\"white\",\"startlinecolor\":\"#2a3f5f\"},\"baxis\":{\"endlinecolor\":\"#2a3f5f\",\"gridcolor\":\"white\",\"linecolor\":\"white\",\"minorgridcolor\":\"white\",\"startlinecolor\":\"#2a3f5f\"},\"type\":\"carpet\"}],\"table\":[{\"cells\":{\"fill\":{\"color\":\"#EBF0F8\"},\"line\":{\"color\":\"white\"}},\"header\":{\"fill\":{\"color\":\"#C8D4E3\"},\"line\":{\"color\":\"white\"}},\"type\":\"table\"}],\"barpolar\":[{\"marker\":{\"line\":{\"color\":\"#E5ECF6\",\"width\":0.5},\"pattern\":{\"fillmode\":\"overlay\",\"size\":10,\"solidity\":0.2}},\"type\":\"barpolar\"}],\"pie\":[{\"automargin\":true,\"type\":\"pie\"}]},\"layout\":{\"autotypenumbers\":\"strict\",\"colorway\":[\"#636efa\",\"#EF553B\",\"#00cc96\",\"#ab63fa\",\"#FFA15A\",\"#19d3f3\",\"#FF6692\",\"#B6E880\",\"#FF97FF\",\"#FECB52\"],\"font\":{\"color\":\"#2a3f5f\"},\"hovermode\":\"closest\",\"hoverlabel\":{\"align\":\"left\"},\"paper_bgcolor\":\"white\",\"plot_bgcolor\":\"#E5ECF6\",\"polar\":{\"bgcolor\":\"#E5ECF6\",\"angularaxis\":{\"gridcolor\":\"white\",\"linecolor\":\"white\",\"ticks\":\"\"},\"radialaxis\":{\"gridcolor\":\"white\",\"linecolor\":\"white\",\"ticks\":\"\"}},\"ternary\":{\"bgcolor\":\"#E5ECF6\",\"aaxis\":{\"gridcolor\":\"white\",\"linecolor\":\"white\",\"ticks\":\"\"},\"baxis\":{\"gridcolor\":\"white\",\"linecolor\":\"white\",\"ticks\":\"\"},\"caxis\":{\"gridcolor\":\"white\",\"linecolor\":\"white\",\"ticks\":\"\"}},\"coloraxis\":{\"colorbar\":{\"outlinewidth\":0,\"ticks\":\"\"}},\"colorscale\":{\"sequential\":[[0.0,\"#0d0887\"],[0.1111111111111111,\"#46039f\"],[0.2222222222222222,\"#7201a8\"],[0.3333333333333333,\"#9c179e\"],[0.4444444444444444,\"#bd3786\"],[0.5555555555555556,\"#d8576b\"],[0.6666666666666666,\"#ed7953\"],[0.7777777777777778,\"#fb9f3a\"],[0.8888888888888888,\"#fdca26\"],[1.0,\"#f0f921\"]],\"sequentialminus\":[[0.0,\"#0d0887\"],[0.1111111111111111,\"#46039f\"],[0.2222222222222222,\"#7201a8\"],[0.3333333333333333,\"#9c179e\"],[0.4444444444444444,\"#bd3786\"],[0.5555555555555556,\"#d8576b\"],[0.6666666666666666,\"#ed7953\"],[0.7777777777777778,\"#fb9f3a\"],[0.8888888888888888,\"#fdca26\"],[1.0,\"#f0f921\"]],\"diverging\":[[0,\"#8e0152\"],[0.1,\"#c51b7d\"],[0.2,\"#de77ae\"],[0.3,\"#f1b6da\"],[0.4,\"#fde0ef\"],[0.5,\"#f7f7f7\"],[0.6,\"#e6f5d0\"],[0.7,\"#b8e186\"],[0.8,\"#7fbc41\"],[0.9,\"#4d9221\"],[1,\"#276419\"]]},\"xaxis\":{\"gridcolor\":\"white\",\"linecolor\":\"white\",\"ticks\":\"\",\"title\":{\"standoff\":15},\"zerolinecolor\":\"white\",\"automargin\":true,\"zerolinewidth\":2},\"yaxis\":{\"gridcolor\":\"white\",\"linecolor\":\"white\",\"ticks\":\"\",\"title\":{\"standoff\":15},\"zerolinecolor\":\"white\",\"automargin\":true,\"zerolinewidth\":2},\"scene\":{\"xaxis\":{\"backgroundcolor\":\"#E5ECF6\",\"gridcolor\":\"white\",\"linecolor\":\"white\",\"showbackground\":true,\"ticks\":\"\",\"zerolinecolor\":\"white\",\"gridwidth\":2},\"yaxis\":{\"backgroundcolor\":\"#E5ECF6\",\"gridcolor\":\"white\",\"linecolor\":\"white\",\"showbackground\":true,\"ticks\":\"\",\"zerolinecolor\":\"white\",\"gridwidth\":2},\"zaxis\":{\"backgroundcolor\":\"#E5ECF6\",\"gridcolor\":\"white\",\"linecolor\":\"white\",\"showbackground\":true,\"ticks\":\"\",\"zerolinecolor\":\"white\",\"gridwidth\":2}},\"shapedefaults\":{\"line\":{\"color\":\"#2a3f5f\"}},\"annotationdefaults\":{\"arrowcolor\":\"#2a3f5f\",\"arrowhead\":0,\"arrowwidth\":1},\"geo\":{\"bgcolor\":\"white\",\"landcolor\":\"#E5ECF6\",\"subunitcolor\":\"white\",\"showland\":true,\"showlakes\":true,\"lakecolor\":\"white\"},\"title\":{\"x\":0.05},\"mapbox\":{\"style\":\"light\"}}}},                        {\"responsive\": true}                    ).then(function(){\n",
       "                            \n",
       "var gd = document.getElementById('e5bf55d9-c3ee-4c8c-97eb-e7f3f656a839');\n",
       "var x = new MutationObserver(function (mutations, observer) {{\n",
       "        var display = window.getComputedStyle(gd).display;\n",
       "        if (!display || display === 'none') {{\n",
       "            console.log([gd, 'removed!']);\n",
       "            Plotly.purge(gd);\n",
       "            observer.disconnect();\n",
       "        }}\n",
       "}});\n",
       "\n",
       "// Listen for the removal of the full notebook cells\n",
       "var notebookContainer = gd.closest('#notebook-container');\n",
       "if (notebookContainer) {{\n",
       "    x.observe(notebookContainer, {childList: true});\n",
       "}}\n",
       "\n",
       "// Listen for the clearing of the current output cell\n",
       "var outputEl = gd.closest('.output');\n",
       "if (outputEl) {{\n",
       "    x.observe(outputEl, {childList: true});\n",
       "}}\n",
       "\n",
       "                        })                };                });            </script>        </div>"
      ]
     },
     "metadata": {},
     "output_type": "display_data"
    }
   ],
   "source": [
    "fig = go.Figure(data=[go.Mesh3d(x=x, y=y, z=z, alphahull=4, color='lightpink', opacity=0.50)])\n",
    "fig.show()"
   ]
  },
  {
   "cell_type": "code",
   "execution_count": null,
   "id": "2ae14036-63b4-4152-a0e9-98a1bee71fdb",
   "metadata": {},
   "outputs": [],
   "source": [
    "coord_pipe = 'data/coord_pipe'\n",
    "\n",
    "with open(coord_pipe, 'rb') as f:\n",
    "    coord_array = np.loadtxt(f)\n",
    "\n",
    "# print(mag_array)\n",
    "# print(count_array)\n",
    "print(coord_array)"
   ]
  }
 ],
 "metadata": {
  "kernelspec": {
   "display_name": "Python 3 (ipykernel)",
   "language": "python",
   "name": "python3"
  },
  "language_info": {
   "codemirror_mode": {
    "name": "ipython",
    "version": 3
   },
   "file_extension": ".py",
   "mimetype": "text/x-python",
   "name": "python",
   "nbconvert_exporter": "python",
   "pygments_lexer": "ipython3",
   "version": "3.10.9"
  }
 },
 "nbformat": 4,
 "nbformat_minor": 5
}
